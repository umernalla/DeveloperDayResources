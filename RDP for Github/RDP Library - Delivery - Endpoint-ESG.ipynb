{
 "cells": [
  {
   "cell_type": "markdown",
   "metadata": {},
   "source": [
    "# Delivery - Endpoint\n",
    "The following example demonstrates basic usage of the RDP Library for Python to request data using the Delivery Endpoint interface.  \n",
    "The example will refer to the Environmental, Social and Governance API to retrieve a full set of scores."
   ]
  },
  {
   "cell_type": "code",
   "execution_count": null,
   "metadata": {},
   "outputs": [],
   "source": [
    "import refinitiv.dataplatform as rdp\n",
    "import json\n",
    "import pandas as pd"
   ]
  },
  {
   "cell_type": "code",
   "execution_count": null,
   "metadata": {},
   "outputs": [],
   "source": [
    "# display_result\n",
    "# The following code segment interrogates the response returned from the platform.  \n",
    "# If the request was successful, basic details and the payload is displayed\n",
    "# Otherwise, status details outlining failure reasons are presented.\n",
    "def display_result(response): \n",
    "    if response.is_success:\n",
    "        # Retrieve the data elements from the response and display how many rows of historical pricing content came back.\n",
    "        data = response.data.raw[\"data\"]\n",
    "        print(\"ESG data response: {}\\nA total of {} score sets returned\".format(json.dumps(response.data.raw, indent=2), len(data)))\n",
    "    else:\n",
    "        print(\"Failed to retrieve data: {}\".format(response.status))"
   ]
  },
  {
   "cell_type": "markdown",
   "metadata": {},
   "source": [
    "\n",
    "### Create a session into the platform\n",
    "\n",
    "**Note**: To configure settings for your environment, refer to the *session.cfg* configuration to:\n",
    "  1. Define how you want to access the platform - from the desktop, directly to the cloud or through deployed services\n",
    "  2. Define the credentials for your access channel"
   ]
  },
  {
   "cell_type": "code",
   "execution_count": null,
   "metadata": {},
   "outputs": [],
   "source": [
    "%run -i RDPLibrarySessionsHelper.ipynb"
   ]
  },
  {
   "cell_type": "code",
   "execution_count": null,
   "metadata": {},
   "outputs": [],
   "source": [
    "session = get_session(\"platform\")\n",
    "session.open()"
   ]
  },
  {
   "cell_type": "markdown",
   "metadata": {},
   "source": [
    "#### Define our Environmental, Social and Governance Full Scores platform URL"
   ]
  },
  {
   "cell_type": "code",
   "execution_count": null,
   "metadata": {},
   "outputs": [],
   "source": [
    "endpoint_url = \"data/environmental-social-governance/v1/views/scores-full\""
   ]
  },
  {
   "cell_type": "markdown",
   "metadata": {},
   "source": [
    "#### Create the EndPoint for sending ESG requests"
   ]
  },
  {
   "cell_type": "code",
   "execution_count": null,
   "metadata": {},
   "outputs": [],
   "source": [
    "endpoint = rdp.Endpoint(session, endpoint_url)"
   ]
  },
  {
   "cell_type": "markdown",
   "metadata": {},
   "source": [
    "#### Simple Request for data\n",
    "\n",
    "Let's make a request for a single instrument\n"
   ]
  },
  {
   "cell_type": "code",
   "execution_count": null,
   "metadata": {},
   "outputs": [],
   "source": [
    "response = endpoint.send_request( \n",
    "    query_parameters = {\"universe\": \"IBM.N\"})"
   ]
  },
  {
   "cell_type": "code",
   "execution_count": null,
   "metadata": {
    "scrolled": true
   },
   "outputs": [],
   "source": [
    "\n",
    "display_result( response )\n"
   ]
  },
  {
   "cell_type": "markdown",
   "metadata": {},
   "source": [
    "#### Extract the scores data into a DataFrame\n",
    "   \n",
    "Get the column headings and the scores   \n",
    "\n"
   ]
  },
  {
   "cell_type": "code",
   "execution_count": null,
   "metadata": {
    "scrolled": true
   },
   "outputs": [],
   "source": [
    "titles = [i[\"title\"] for i in response.data.raw['headers']]\n",
    "pd.DataFrame(response.data.raw['data'],columns=titles)\n"
   ]
  },
  {
   "cell_type": "code",
   "execution_count": null,
   "metadata": {},
   "outputs": [],
   "source": [
    "session.close()"
   ]
  },
  {
   "cell_type": "code",
   "execution_count": null,
   "metadata": {},
   "outputs": [],
   "source": [
    "type(response)"
   ]
  }
 ],
 "metadata": {
  "kernelspec": {
   "display_name": "Python 3",
   "language": "python",
   "name": "python3"
  },
  "language_info": {
   "codemirror_mode": {
    "name": "ipython",
    "version": 3
   },
   "file_extension": ".py",
   "mimetype": "text/x-python",
   "name": "python",
   "nbconvert_exporter": "python",
   "pygments_lexer": "ipython3",
   "version": "3.7.3"
  }
 },
 "nbformat": 4,
 "nbformat_minor": 4
}
