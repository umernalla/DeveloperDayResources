{
 "cells": [
  {
   "cell_type": "markdown",
   "metadata": {},
   "source": [
    "# StreamingPrice\n",
    "The following example demonstrates how to retrieve streaming market data prices from the platform.  \n",
    "The StreamingPrice interface refers to level 1 content such as trades and quotes.  \n",
    "The example will demonstrate how to capture the real-time updates within a user-defined callback or lambda expression.  \n",
    "In addition, the example will demonstrate how to specify a set of fields of interest (a View) when making the request."
   ]
  },
  {
   "cell_type": "code",
   "execution_count": null,
   "metadata": {},
   "outputs": [],
   "source": [
    "import refinitiv.dataplatform as rdp\n",
    "import json, datetime"
   ]
  },
  {
   "cell_type": "code",
   "execution_count": null,
   "metadata": {},
   "outputs": [],
   "source": [
    "# display_update\n",
    "# Whenever an update occurs in the market, display the fields to the screen.\n",
    "def display_update(name, fields): \n",
    "    currentTime = datetime.datetime.now()\n",
    "    print(\"{}: {} : ({}/{}) - : {}\".format(currentTime.strftime(\"%H:%M:%S\"), \n",
    "                                    name,\n",
    "                                    fields['BID'], \n",
    "                                    fields['ASK'], \n",
    "                                    fields['DSPLY_NAME']))"
   ]
  },
  {
   "cell_type": "markdown",
   "metadata": {},
   "source": [
    "### Create a session into the platform\n",
    "\n",
    "**Note**: To configure settings for your environment, refer to the *session.cfg* configuration to:\n",
    "  1. Define how you want to access the platform - from the desktop,the cloud or through deployed services\n",
    "  2. Define the credentials for your access channel"
   ]
  },
  {
   "cell_type": "code",
   "execution_count": null,
   "metadata": {},
   "outputs": [],
   "source": [
    "%run -i RDPLibrarySessionsHelper.ipynb"
   ]
  },
  {
   "cell_type": "markdown",
   "metadata": {},
   "source": [
    "Acquire the required type of session and open it"
   ]
  },
  {
   "cell_type": "code",
   "execution_count": null,
   "metadata": {
    "scrolled": true
   },
   "outputs": [],
   "source": [
    "mySession = get_session(\"platform\")\n",
    "mySession.open()"
   ]
  },
  {
   "cell_type": "markdown",
   "metadata": {},
   "source": [
    "#### Create the Pricing object\n",
    "\n",
    "Specify our RIC and fields of interest along with functions to handle events and display the responses\n"
   ]
  },
  {
   "cell_type": "code",
   "execution_count": null,
   "metadata": {},
   "outputs": [],
   "source": [
    "pricing = rdp.StreamingPrices(\n",
    "    universe = ['EUR=', 'GBP=', 'JPY=', 'CAD='], \n",
    "    session = mySession,\n",
    "    fields = ['BID', 'ASK','DSPLY_NAME','OPEN_PRC','HST_CLOSE'],\n",
    "    on_refresh = lambda streaming_price, name, fields : print(\"Refresh for {} :\\n{}\".format(name,\n",
    "                                                                         json.dumps(fields, indent=2))),\n",
    "    on_update = lambda streaming_price, name, fields : display_update(name,fields),\n",
    "    on_status = lambda streaming_price, name, status : print(\"Status for {} : {}\".format( name, status))    \n",
    ")                  "
   ]
  },
  {
   "cell_type": "markdown",
   "metadata": {},
   "source": [
    "#### Open a streaming request...\n",
    "\n",
    "Open the Stream\n"
   ]
  },
  {
   "cell_type": "code",
   "execution_count": null,
   "metadata": {},
   "outputs": [],
   "source": [
    "pricing.open()"
   ]
  },
  {
   "cell_type": "markdown",
   "metadata": {},
   "source": [
    "#### Close the stream"
   ]
  },
  {
   "cell_type": "code",
   "execution_count": null,
   "metadata": {},
   "outputs": [],
   "source": [
    "pricing.close()"
   ]
  },
  {
   "cell_type": "markdown",
   "metadata": {},
   "source": [
    "#### Close the session"
   ]
  },
  {
   "cell_type": "code",
   "execution_count": null,
   "metadata": {},
   "outputs": [],
   "source": [
    "mySession.close()"
   ]
  }
 ],
 "metadata": {
  "kernelspec": {
   "display_name": "Python 3",
   "language": "python",
   "name": "python3"
  },
  "language_info": {
   "codemirror_mode": {
    "name": "ipython",
    "version": 3
   },
   "file_extension": ".py",
   "mimetype": "text/x-python",
   "name": "python",
   "nbconvert_exporter": "python",
   "pygments_lexer": "ipython3",
   "version": "3.7.3"
  }
 },
 "nbformat": 4,
 "nbformat_minor": 4
}
