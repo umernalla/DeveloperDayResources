{
 "cells": [
  {
   "cell_type": "markdown",
   "metadata": {},
   "source": [
    "# StreamingPrice Caching\n",
    "The following example demonstrates how to retrieve streaming market data prices from the platform.  \n",
    "\n",
    "The StreamingPrice interface refers to level 1 content such as trades and quotes.  \n",
    "\n",
    "The example will demonstrate how to define a StreamingPrice object, which automatically manages a streaming cache available for access at any time.  \n",
    "\n",
    "The StreamingPrice interface provides simple access methods to reach into the cache and pull out real-time prices."
   ]
  },
  {
   "cell_type": "code",
   "execution_count": 1,
   "metadata": {},
   "outputs": [],
   "source": [
    "import refinitiv.dataplatform as rdp\n",
    "import json, time"
   ]
  },
  {
   "cell_type": "markdown",
   "metadata": {},
   "source": [
    "### Create a session into the platform\n",
    "\n",
    "**Note**: To configure settings for your environment, refer to the *session.cfg* configuration to:\n",
    "  1. Define how you want to access the platform - from the desktop, the cloud or through deployed services\n",
    "  2. Define the credentials for your access channel"
   ]
  },
  {
   "cell_type": "code",
   "execution_count": 2,
   "metadata": {},
   "outputs": [],
   "source": [
    "%run -i RDPLibrarySessionsHelper.ipynb"
   ]
  },
  {
   "cell_type": "code",
   "execution_count": 3,
   "metadata": {
    "scrolled": true
   },
   "outputs": [
    {
     "name": "stdout",
     "output_type": "stream",
     "text": [
      "Session choice:  platform\n",
      "<refinitiv.dataplatform.core.session.platform_session.PlatformSession object at 0x000001C3EC2A4D68>\n"
     ]
    },
    {
     "data": {
      "text/plain": [
       "<State.Open: 3>"
      ]
     },
     "execution_count": 3,
     "metadata": {},
     "output_type": "execute_result"
    },
    {
     "name": "stderr",
     "output_type": "stream",
     "text": [
      "2020-01-13 17:26:18,406 P[21284] [Thread-6 25616] [Error 400 - access_denied] iPlanet session has been expired.\n",
      "2020-01-13 17:30:48,888 P[21284] [Thread-6 25616] [Error 400 - access_denied] Refresh token does not exist.\n"
     ]
    }
   ],
   "source": [
    "mySession = get_session(\"platform\")\n",
    "mySession.open()"
   ]
  },
  {
   "cell_type": "markdown",
   "metadata": {},
   "source": [
    "#### Create the Streaming Price object\n",
    "\n",
    "Request a few instruments and selected fields"
   ]
  },
  {
   "cell_type": "code",
   "execution_count": null,
   "metadata": {},
   "outputs": [],
   "source": [
    "# Define our streaming callbacks to capture the initial refresh and the on-going updates as market conditions change\n",
    "prices = rdp.StreamingPrices(session = mySession, \n",
    "    universe = ['EUR=','CHF=', 'AED='],\n",
    "    fields = ['BID', 'ASK','DSPLY_NAME', 'QUOTIM'])"
   ]
  },
  {
   "cell_type": "markdown",
   "metadata": {},
   "source": [
    "#### Open the Streaming Price object\n",
    "\n",
    "Requests will sent and library will start caching the fields"
   ]
  },
  {
   "cell_type": "code",
   "execution_count": null,
   "metadata": {},
   "outputs": [],
   "source": [
    "prices.open()"
   ]
  },
  {
   "cell_type": "markdown",
   "metadata": {},
   "source": [
    "#### Get values and display\n",
    "\n",
    "Snap the current field values for all of the above instruments\n"
   ]
  },
  {
   "cell_type": "code",
   "execution_count": null,
   "metadata": {},
   "outputs": [],
   "source": [
    "df = prices.get_snapshot()\n",
    "df"
   ]
  },
  {
   "cell_type": "markdown",
   "metadata": {},
   "source": [
    "#### Updates continue to be cached\n",
    "\n",
    "Snap the current values for selected fields and/or instruments\n"
   ]
  },
  {
   "cell_type": "code",
   "execution_count": null,
   "metadata": {},
   "outputs": [],
   "source": [
    "df = prices.get_snapshot(universe = ['EUR=','AED='],\n",
    "    fields = ['BID', 'ASK'])\n",
    "df"
   ]
  },
  {
   "cell_type": "code",
   "execution_count": null,
   "metadata": {},
   "outputs": [],
   "source": [
    "prices.close()"
   ]
  },
  {
   "cell_type": "code",
   "execution_count": null,
   "metadata": {},
   "outputs": [],
   "source": [
    "mySession.close()"
   ]
  },
  {
   "cell_type": "code",
   "execution_count": null,
   "metadata": {},
   "outputs": [],
   "source": []
  }
 ],
 "metadata": {
  "kernelspec": {
   "display_name": "Python 3",
   "language": "python",
   "name": "python3"
  },
  "language_info": {
   "codemirror_mode": {
    "name": "ipython",
    "version": 3
   },
   "file_extension": ".py",
   "mimetype": "text/x-python",
   "name": "python",
   "nbconvert_exporter": "python",
   "pygments_lexer": "ipython3",
   "version": "3.7.3"
  }
 },
 "nbformat": 4,
 "nbformat_minor": 4
}
