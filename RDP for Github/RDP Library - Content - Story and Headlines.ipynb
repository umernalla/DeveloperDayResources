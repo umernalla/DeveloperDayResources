{
 "cells": [
  {
   "cell_type": "markdown",
   "metadata": {},
   "source": [
    "# News Headlines and Story\n",
    "\n",
    "The following example demonstrates how to retrieve News Headlines and Story using the Content Layer.  \n",
    "\n",
    "The example will demonstrate how to use the Event Driven mode.   \n"
   ]
  },
  {
   "cell_type": "code",
   "execution_count": null,
   "metadata": {},
   "outputs": [],
   "source": [
    "import refinitiv.dataplatform as rdp\n",
    "import json, datetime\n",
    "import pandas as pd"
   ]
  },
  {
   "cell_type": "markdown",
   "metadata": {},
   "source": [
    "### Create a session into the platform\n",
    "\n",
    "**Note**: To configure settings for your environment, refer to the *session.cfg* configuration to:\n",
    "  1. Define how you want to access the platform - from the desktop,the cloud or through deployed services\n",
    "  2. Define the credentials for your access channel"
   ]
  },
  {
   "cell_type": "code",
   "execution_count": null,
   "metadata": {},
   "outputs": [],
   "source": [
    "%run -i RDPLibrarySessionsHelper.ipynb"
   ]
  },
  {
   "cell_type": "markdown",
   "metadata": {},
   "source": [
    "Acquire the required type of session and open it"
   ]
  },
  {
   "cell_type": "code",
   "execution_count": null,
   "metadata": {
    "scrolled": true
   },
   "outputs": [],
   "source": [
    "mySession = get_session(\"platform\")\n",
    "#mySession.set_log_level(6)\n",
    "mySession.open()"
   ]
  },
  {
   "cell_type": "markdown",
   "metadata": {},
   "source": [
    "#### Create the News Story object\n",
    "\n",
    "Specify a Response event handler   "
   ]
  },
  {
   "cell_type": "code",
   "execution_count": null,
   "metadata": {},
   "outputs": [],
   "source": [
    "newsStory = rdp.NewsStory(mySession, \n",
    "    on_response = lambda story, response : print(\"Event Driven Story Output : \\n\", response)\n",
    ")                  "
   ]
  },
  {
   "cell_type": "markdown",
   "metadata": {},
   "source": [
    "OR "
   ]
  },
  {
   "cell_type": "code",
   "execution_count": null,
   "metadata": {},
   "outputs": [],
   "source": [
    "newsStory = rdp.NewsStory(mySession, \n",
    "    on_response = lambda story, response : print(\"Event Driven Story Output : \\n\", json.dumps(response.data.raw, indent=2))\n",
    ")                  "
   ]
  },
  {
   "cell_type": "markdown",
   "metadata": {},
   "source": [
    "#### Create the News Headlines object\n",
    "Specify a Response event handler "
   ]
  },
  {
   "cell_type": "code",
   "execution_count": null,
   "metadata": {},
   "outputs": [],
   "source": [
    "newsHeadlines = rdp.NewsHeadlines(mySession,\n",
    "        on_response = lambda headlines, response : print(\"Event Driven Headlines Output : \\n\", json.dumps(response.data.raw, indent=2))\n",
    "                                 )"
   ]
  },
  {
   "cell_type": "markdown",
   "metadata": {},
   "source": [
    "#### Request headlines...\n",
    "\n",
    "Specify our headlines query\n"
   ]
  },
  {
   "cell_type": "code",
   "execution_count": null,
   "metadata": {
    "scrolled": true
   },
   "outputs": [],
   "source": [
    "headlines = newsHeadlines.get_headlines(query=\"AAPL.O\")"
   ]
  },
  {
   "cell_type": "markdown",
   "metadata": {},
   "source": [
    "Extract the StoryIDs from Headlines we got back"
   ]
  },
  {
   "cell_type": "code",
   "execution_count": null,
   "metadata": {},
   "outputs": [],
   "source": [
    "storyIDs = [i[\"storyId\"] for i in headlines.data.raw['data']]\n",
    "pd.DataFrame(storyIDs)"
   ]
  },
  {
   "cell_type": "markdown",
   "metadata": {},
   "source": [
    "#### Request a story...\n",
    "\n",
    "Specify our Story ID - try copying and pasting one from above\n"
   ]
  },
  {
   "cell_type": "code",
   "execution_count": null,
   "metadata": {
    "scrolled": true
   },
   "outputs": [],
   "source": [
    "     story = newsStory.get_story(\"urn:newsml:reuters.com:20191205:nNRAadmv9e:1\")"
   ]
  },
  {
   "cell_type": "markdown",
   "metadata": {},
   "source": [
    "#### Extract additional data from Story\n",
    "\n",
    "Get the JSON payload from the response which contains metadata\n"
   ]
  },
  {
   "cell_type": "code",
   "execution_count": null,
   "metadata": {},
   "outputs": [],
   "source": [
    "type(story)"
   ]
  },
  {
   "cell_type": "code",
   "execution_count": null,
   "metadata": {
    "scrolled": true
   },
   "outputs": [],
   "source": [
    "print(json.dumps(story.data.raw, indent=2))"
   ]
  },
  {
   "cell_type": "markdown",
   "metadata": {},
   "source": [
    "#### Close the session"
   ]
  },
  {
   "cell_type": "code",
   "execution_count": null,
   "metadata": {},
   "outputs": [],
   "source": [
    "mySession.close()"
   ]
  },
  {
   "cell_type": "code",
   "execution_count": null,
   "metadata": {},
   "outputs": [],
   "source": []
  }
 ],
 "metadata": {
  "kernelspec": {
   "display_name": "Python 3",
   "language": "python",
   "name": "python3"
  },
  "language_info": {
   "codemirror_mode": {
    "name": "ipython",
    "version": 3
   },
   "file_extension": ".py",
   "mimetype": "text/x-python",
   "name": "python",
   "nbconvert_exporter": "python",
   "pygments_lexer": "ipython3",
   "version": "3.7.3"
  }
 },
 "nbformat": 4,
 "nbformat_minor": 4
}
