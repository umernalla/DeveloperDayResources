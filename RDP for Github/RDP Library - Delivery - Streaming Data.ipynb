{
 "cells": [
  {
   "cell_type": "markdown",
   "metadata": {},
   "source": [
    "# Streaming Market Data\n",
    "The following example demonstrates a basic use case of the API to retrieve streaming content from the platform.  \n",
    "\n",
    "This includes Level 1 MarketPrice data i.e. as trades and quotes.  \n",
    "\n",
    "Also allows access to other types of streaming data e.g. Full depth Order book data - Level 2.  \n"
   ]
  },
  {
   "cell_type": "code",
   "execution_count": null,
   "metadata": {},
   "outputs": [],
   "source": [
    "import refinitiv.dataplatform as rdp\n",
    "import json"
   ]
  },
  {
   "cell_type": "markdown",
   "metadata": {},
   "source": [
    "### Create a session into the required platform\n",
    "\n",
    "**Note**: To configure settings for your environment, refer to the ***session.cfg*** configuration to:  \n",
    "  * Define the credentials for your access channel(s)"
   ]
  },
  {
   "cell_type": "code",
   "execution_count": null,
   "metadata": {},
   "outputs": [],
   "source": [
    "%run -i RDPLibrarySessionsHelper.ipynb"
   ]
  },
  {
   "cell_type": "markdown",
   "metadata": {},
   "source": [
    "#### Acquire a session of your choice\n",
    "  1. Do we want to get data from the desktop, directly to the cloud or through deployed services?\n",
    "  3. Ask the RDP library to provide a session of that type\n",
    "  2. Open the acquired session"
   ]
  },
  {
   "cell_type": "code",
   "execution_count": null,
   "metadata": {},
   "outputs": [],
   "source": [
    "session = get_session('deployed')\n",
    "session.open()"
   ]
  },
  {
   "cell_type": "markdown",
   "metadata": {},
   "source": [
    "#### Define a stream to retrieve level 1 content...\n",
    "We define an event stream where each event represents a data or status event\n",
    "  1. The current Market data values - at time of response : Refresh\n",
    "  2. Subsequent Market data activity - : Update\n",
    "  3. Change in status of item e.g. stale : Status"
   ]
  },
  {
   "cell_type": "code",
   "execution_count": null,
   "metadata": {},
   "outputs": [],
   "source": [
    "market_price = rdp.ItemStream(session = session,\n",
    "                             name = 'EUR=',\n",
    "                             fields = ([\"DSPLY_NAME\", \"BID\", \"ASK\"]),\n",
    "                             on_refresh = lambda s, msg : print(s, json.dumps(msg, indent=2)),\n",
    "                             on_update = lambda s, msg : print(s, json.dumps(msg, indent=2)),\n",
    "                             on_status = lambda s, msg : print(s.name,type(msg)))"
   ]
  },
  {
   "cell_type": "markdown",
   "metadata": {},
   "source": [
    "#### Open the stream...\n",
    "Open the event stream to start receiving our data and status events"
   ]
  },
  {
   "cell_type": "code",
   "execution_count": null,
   "metadata": {},
   "outputs": [],
   "source": [
    "market_price.open()"
   ]
  },
  {
   "cell_type": "markdown",
   "metadata": {},
   "source": [
    "#### Close the stream"
   ]
  },
  {
   "cell_type": "code",
   "execution_count": null,
   "metadata": {},
   "outputs": [],
   "source": [
    "market_price.close()"
   ]
  },
  {
   "cell_type": "markdown",
   "metadata": {},
   "source": [
    "#### Define a stream to retrieve level 2 content...\n",
    "As above, except this time we are going to request full depth Order Book \"MarketByPrice\" data"
   ]
  },
  {
   "cell_type": "code",
   "execution_count": null,
   "metadata": {},
   "outputs": [],
   "source": [
    "order_book = rdp.ItemStream(session = session,\n",
    "                             name = \"VOD.L\",\n",
    "                             domain = \"MarketByPrice\",\n",
    "                             on_refresh = lambda s, msg : print(json.dumps(msg, indent=2)),\n",
    "                             on_update = lambda s, msg : print(json.dumps(msg, indent=2)),\n",
    "                             on_status = lambda s, msg : print(json.dumps(msg, indent=2)))"
   ]
  },
  {
   "cell_type": "code",
   "execution_count": null,
   "metadata": {},
   "outputs": [],
   "source": [
    "order_book.open()"
   ]
  },
  {
   "cell_type": "code",
   "execution_count": null,
   "metadata": {},
   "outputs": [],
   "source": [
    "order_book.close()"
   ]
  },
  {
   "cell_type": "markdown",
   "metadata": {},
   "source": [
    "#### Close the session\n",
    "Logoff and disconnect"
   ]
  },
  {
   "cell_type": "code",
   "execution_count": null,
   "metadata": {},
   "outputs": [],
   "source": [
    "session.close()"
   ]
  },
  {
   "cell_type": "code",
   "execution_count": null,
   "metadata": {},
   "outputs": [],
   "source": []
  }
 ],
 "metadata": {
  "kernelspec": {
   "display_name": "Python 3",
   "language": "python",
   "name": "python3"
  },
  "language_info": {
   "codemirror_mode": {
    "name": "ipython",
    "version": 3
   },
   "file_extension": ".py",
   "mimetype": "text/x-python",
   "name": "python",
   "nbconvert_exporter": "python",
   "pygments_lexer": "ipython3",
   "version": "3.7.3"
  }
 },
 "nbformat": 4,
 "nbformat_minor": 4
}
